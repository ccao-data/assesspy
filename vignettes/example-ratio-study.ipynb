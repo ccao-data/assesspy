{
 "cells": [
  {
   "cell_type": "markdown",
   "metadata": {},
   "source": [
    "# Sales ratio study with real data\n",
    "\n",
    "AssessPy can easily be used with various data to conduct a sales ratio study. In this vignette, we demonstrate this process using real data from the Cook County Assessor's Office (CCAO). The CCAO publishes assessments and sales on the [Cook County Open Data Portal](https://datacatalog.cookcountyil.gov/stories/s/i22y-9sd2).\n",
    "\n",
    "## Basics of sales ratio studies\n",
    "\n",
    "A sales ratio is the ratio of the assessor's estimate of a property's value to the sale price of a property. A sales ratio study is a report on how accurately and fairly an assessor predicted property values. The CCAO has a [rigorous set of rules](https://gitlab.com/groups/ccao-data-science---modeling/-/wikis/SOPs/Sales%20Ratio%20Studies) that govern how sales ratios studies are conducted.\n",
    "\n",
    "In general, there are four important statistics produced in sales ratio studies, listed in the table below. It is important to understand that these statistics are calculated based on properties that sell. In most jurisdictions, the number of properties that sell in any single year is a very small percentage of the overall number of properties. In order to characterize the quality of the assessment role in a jurisdiction, we draw an inference from this small number of properties.\n",
    "\n",
    "| Statistic               | Acceptable Range | Interpretation                                                                                                                                                                             |\n",
    "|------------------------|------------------------|------------------------|\n",
    "| COD                     | 5 - 15           | How often properties with the *same* sale price receive the same predicted market value. Lower CODs indicate more fairness between similarly priced properties.                            |\n",
    "| PRD                     | .98 - 1.03       | How often properties with *different* sale prices receive the proportionately different predicted market values. Lower PRDs indicate more fairness between low and high-priced properties. |\n",
    "| PRB                     | -.05 - .05       | PRB is a different approach to measuring fairness across homes with different sale prices.                                                                                                 |\n",
    "| Median Assessment Ratio | .095 - 1.05      | The median ratio measures whether the most common ratios accurately reflect sale prices                                                                                                    |\n",
    "| Sales Chasing (E.4)     | $\\le$ 5%         | Measures the degree to which the statistics above are *true* reflections of the quality of assessments.                                                                                    |\n",
    "\n",
    "### Interpretation of sales ratio statistics\n",
    "\n",
    "Suppose you have a jurisdiction with a median ratio of one and a COD of 20. This indicates that, on average, the assessor predicts the sale price of properties accurately, but with a high dispersion. To use the dart board analogy, the assessor's darts fall in a wide area centered around the bullseye. On the other hand, if the median ratio is greater than one, and the COD is lower than 10, this indicates that the assessor consistently over-estimates the value of properties in their jurisdiction.\n",
    "\n",
    "Suppose you have a jurisdiction with a low COD and high PRD & PRB. This indicates that the assessor consistently under-estimates higher value properties, and over-estimates lower value properties. Properties of similar value receive similar estimates, but there is structural inequality in the overall system.\n",
    "\n",
    "Finally, suppose you have a jurisdiction with CODs, PRDs, and PRBs all within the acceptable range, but there is strong evidence of selective appraisals. In this case, the sales value statistics should be disregarded, since they are based on a non-random selection of the underlying set of properties. They cannot be used to characterize the quality of the assessment role.\n",
    "\n",
    "## Loading data into Python\n",
    "\n",
    "There are many ways to load data into Python. Below are some example methods:"
   ]
  },
  {
   "cell_type": "markdown",
   "metadata": {},
   "source": [
    "### jsonlite\n",
    "\n",
    "Socrata can also return raw JSON if you manually construct a query URL. Follow the [API docs](https://dev.socrata.com/foundry/datacatalog.cookcountyil.gov/uzyt-m557) to alter your query. The raw JSON output can be read using the `read_json` from `pandas`."
   ]
  },
  {
   "cell_type": "code",
   "execution_count": null,
   "metadata": {},
   "outputs": [],
   "source": [
    "import json\n",
    "import pandas as pd\n",
    "\n",
    "# Load 100k rows of 2020 residential (major class 2) assessment data\n",
    "assessments = pd.read_json(\n",
    "  \"https://datacatalog.cookcountyil.gov/resource/uzyt-m557.json?$where=starts_with(class,'2')&year=2020&$limit=100000\"\n",
    "  )\n",
    "\n",
    "# Load 100k rows of 2020 sales data\n",
    "sales = pd.read_json(\n",
    "  \"https://datacatalog.cookcountyil.gov/resource/wvhk-k5uv.json?year=2020&$limit=100000\"\n",
    "  )\n",
    "\n",
    "# read_json removes leading zeroes, add them back\n",
    "assessments.pin = assessments.pin.astype(str).str.zfill(14)\n",
    "sales.pin = sales.pin.astype(str).str.zfill(14)"
   ]
  },
  {
   "cell_type": "markdown",
   "metadata": {},
   "source": [
    "### From a CSV or Excel\n",
    "\n",
    "Python can also read Excel and CSV files stored on your computer."
   ]
  },
  {
   "cell_type": "code",
   "execution_count": null,
   "metadata": {},
   "outputs": [],
   "source": [
    "%%script false --no-raise-error\n",
    "\n",
    "# CSV files\n",
    "assessments = pd.read_csv(\"C:/Users/MEEE/Documents/.... where is your file ?\")\n",
    "sales = pd.read_csv(\"C:/Users/MEEE/Documents/.... where is your file ?\")\n",
    "\n",
    "# Excel files\n",
    "assessments = pd.read_excel(\"C:/Users/MEEE/Documents/.... where is your file ?\", sheet_name = \"your sheet\")\n",
    "sales = pd.read_excel(\"C:/Users/MEEE/Documents/.... where is your file ?\", sheet_name = \"your sheet\")"
   ]
  },
  {
   "cell_type": "markdown",
   "metadata": {},
   "source": [
    "### Connecting to a relational database\n",
    "\n",
    "The CCAO's Data Science team uses Amazon Athena. Python can connect to a wide range of database engines."
   ]
  },
  {
   "cell_type": "code",
   "execution_count": null,
   "metadata": {},
   "outputs": [],
   "source": [
    "%%script false --no-raise-error\n",
    "\n",
    "from pyathena import connect\n",
    "\n",
    "# Connect to the database\n",
    "aws_athena_conn = connect(\n",
    "  s3_staging_dir=\"your-staging-directory\",\n",
    "  region_name=\"your-aws-region\"\n",
    "  )\n",
    "\n",
    "# Fetch data from the SQL server\n",
    "assessments = pd.read_sql_query(\"SELECT * FROM your-database.your-table\", aws_athena_conn)"
   ]
  },
  {
   "cell_type": "markdown",
   "metadata": {},
   "source": [
    "\n",
    "## Sales ratio study\n",
    "\n",
    "In this section, we will use data published on the [Cook County Open Data Portal](https://datacatalog.cookcountyil.gov/Property-Taxation/Cook-County-Assessor-s-Residential-Assessments/uzyt-m557) to produce an example sales ratio study.\n",
    "\n",
    "### Prepare the data\n",
    "\n",
    "Above, we pulled assessment and sales data from the Open Data Portal. In order to produce our sales ratio statistics, our data needs to be formatted in 'long form,' meaning that each row is a property in a given year. The county provides *assessed value* on the Open Data Portal. For residential properties, we need to multiply assessed value by 10 to get fair market value. [Assessment levels](https://prodassets.cookcountyassessor.com/s3fs-public/form_documents/classcode.pdf) can differ for other classes."
   ]
  },
  {
   "cell_type": "code",
   "execution_count": null,
   "metadata": {},
   "outputs": [],
   "source": [
    "# Pivot to longer, Join the two datasets based on PIN, keeping only those that have assessed\n",
    "# values AND sales\n",
    "combined = pd.merge(\n",
    "  pd.melt(\n",
    "    assessments,\n",
    "    id_vars=[\"pin\", \"year\", \"township_name\"],\n",
    "    value_vars=[\"mailed_tot\", \"certified_tot\", \"board_tot\"],\n",
    "    var_name = \"stage\",\n",
    "    value_name='assessed'\n",
    "    ),\n",
    "    sales[[\"pin\", \"year\", \"sale_price\", \"is_multisale\"]],\n",
    "    on = [\"pin\", \"year\"],\n",
    "    how = \"inner\"\n",
    ")\n",
    "\n",
    "# Remove multisales, then calculate the ratio for each property\n",
    "# and assessment stage\n",
    "combined = combined[combined.is_multisale == False]\n",
    "combined['ratio'] = combined.assessed * 10 / combined.sale_price"
   ]
  },
  {
   "cell_type": "markdown",
   "metadata": {},
   "source": [
    "### Sales ratio statistics by township\n",
    "\n",
    "Cook County has jurisdictions called townships that are important units for assessment. In the chunk below, we calculate sales ratio statistics by township."
   ]
  },
  {
   "cell_type": "code",
   "execution_count": null,
   "metadata": {},
   "outputs": [],
   "source": [
    "import numpy as np\n",
    "import assesspy as ap\n",
    "\n",
    "# For each town and stage, calculate COD, PRD, and PRB, and their respective\n",
    "# confidence intervals then arrange by town name and stage of assessment\n",
    "town_stats = combined[combined.assessed > 0]\n",
    "town_stats['stage'] = town_stats.stage.astype('category').cat.reorder_categories(['mailed_tot', 'certified_tot', 'board_tot'])\n",
    "town_stats = town_stats.groupby([\"township_name\", \"stage\"]).apply(\n",
    "        lambda x: pd.Series({\n",
    "            'n':np.size(x['pin']),\n",
    "            'cod':ap.cod(ratio = x['ratio']),\n",
    "            'cod_ci':ap.cod_ci(ratio = x['ratio']),\n",
    "            'prd':ap.prd(assessed = x['assessed'], sale_price = x['sale_price']),\n",
    "            'prd_ci':ap.prd_ci(assessed = x['assessed'], sale_price = x['sale_price']),\n",
    "            'prb':ap.prb(assessed = x['assessed'], sale_price = x['sale_price'])\n",
    "            })\n",
    "        )\n",
    "\n",
    "town_stats['prb_ci'] = town_stats.prb.str['95% ci']\n",
    "town_stats['prb'] = town_stats.prb.str['prb']\n",
    "town_stats['cod_met'] = town_stats.cod.apply(ap.cod_met)\n",
    "town_stats['prd_met'] = town_stats.prd.apply(ap.prd_met)\n",
    "town_stats['prb_met'] = town_stats.prb.apply(ap.prb_met)\n",
    "town_stats = town_stats[['n', 'cod', 'cod_ci', 'cod_met', 'prd', 'prd_ci', 'prd_met', 'prb', 'prb_ci', 'prb_met']]\n",
    "town_stats = town_stats[town_stats['n'] >= 70]\n",
    "\n",
    "town_stats"
   ]
  },
  {
   "cell_type": "markdown",
   "metadata": {},
   "source": [
    "### Median ratios by sale price\n",
    "\n",
    "Suppose you are concerned that an assessment role is unfair to lower value homes. One way to visually see whether ratios are systematically biased with respect to property value is to plot median ratios by decile. In our sample data, we can see each decile of sale price using the `quantile` function:"
   ]
  },
  {
   "cell_type": "code",
   "execution_count": null,
   "metadata": {},
   "outputs": [],
   "source": [
    "deciles = np.linspace(.1, .9, 9).round(1)\n",
    "\n",
    "median_ratios = pd.DataFrame(deciles, columns = ['Decile'])\n",
    "median_ratios['Decile'] = (median_ratios.Decile * 100).astype(int).astype(str) + '%'\n",
    "median_ratios['Sale Price'] = np.quantile(combined.sale_price, deciles)\n",
    "median_ratios['Sale Price'] = median_ratios['Sale Price'].apply(lambda x: \"${:,.0f}\".format(x))\n",
    "\n",
    "median_ratios"
   ]
  },
  {
   "cell_type": "markdown",
   "metadata": {},
   "source": [
    "Using these decile values, we can graph sales ratios across each decile of value. Here, we use the very useful `matplotlib` package to make an attractive graph."
   ]
  },
  {
   "cell_type": "code",
   "execution_count": null,
   "metadata": {},
   "outputs": [],
   "source": [
    "import matplotlib.pyplot as plt\n",
    "import warnings\n",
    "warnings.filterwarnings('ignore')\n",
    "\n",
    "graph_data = combined\n",
    "graph_data['rank'] = pd.qcut(graph_data['sale_price'], 10, labels=False)\n",
    "graph_data['rank'] = graph_data['rank'] + 1\n",
    "graph_data['decile'] = pd.qcut(graph_data['sale_price'] / 1000, 10, precision=0)\n",
    "graph_data['decile'] = graph_data['decile'].astype(str).str.replace('(', '\\$')\n",
    "graph_data['decile'] = graph_data['decile'].str.replace(', ', ' - \\$')\n",
    "graph_data['decile'] = graph_data['decile'].str.replace('.0', 'K', regex=False)\n",
    "graph_data['decile'] = graph_data['decile'].str.replace(']', '')\n",
    "graph_data['decile'] = graph_data['decile'].str.replace(' - \\$9050K', '+', regex=False)\n",
    "graph_data = graph_data.groupby(['rank', 'decile']).apply(\n",
    "        lambda x: pd.Series({\n",
    "            'Median Sales Ratio':np.median(x['ratio']),\n",
    "            })\n",
    "        )\n",
    "\n",
    "graph_data = graph_data.reset_index()\n",
    "plt.scatter(graph_data['decile'], graph_data['Median Sales Ratio'])\n",
    "plt.xticks(rotation=45)\n",
    "plt.xlabel('Decile')\n",
    "plt.ylabel('Ratio')\n",
    "plt.suptitle(\"Median Sale Ratios: Open Data Sample\", fontsize=14)\n",
    "plt.title(\"By decile of sale price in 2020\")\n",
    "plt.gca().set_yticklabels([f'{x:.0%}' for x in plt.gca().get_yticks()])\n",
    "plt.show()"
   ]
  },
  {
   "cell_type": "markdown",
   "metadata": {},
   "source": [
    "### Detecting selective appraisals\n",
    "\n",
    "Selective appraisal, sometimes referred to as sales chasing, happens when a property is reappraised to shift its assessed value toward its actual sale price. The CCAO requires selective appraisal detection in every sales ratio study. This is because selective appraisal renders all other sales ratio statistics suspect. In the code below, we construct two sets of ratios, one normally distributed, and one 'chased.'"
   ]
  },
  {
   "cell_type": "code",
   "execution_count": null,
   "metadata": {},
   "outputs": [],
   "source": [
    "from statsmodels.distributions.empirical_distribution import ECDF\n",
    "\n",
    "# Generate fake data with normal vs chased ratios\n",
    "normal_ratios = np.random.normal(1, 0.15, 10000)\n",
    "chased_ratios = list(np.random.normal(1, 0.15, 900)) + [1] * 100\n",
    "\n",
    "# Plot to view discontinuity\n",
    "ecdf_normal = ECDF(normal_ratios)\n",
    "ecdf_chased = ECDF(chased_ratios)\n",
    "plt.plot(ecdf_normal.x, ecdf_normal.y, color = 'blue')\n",
    "plt.plot(ecdf_chased.x, ecdf_chased.y, color = 'red')\n",
    "plt.xlabel('Ratio')\n",
    "plt.ylabel('F(x)')\n",
    "plt.show()\n",
    "\n",
    "{'Blue Chased?': ap.detect_chasing(normal_ratios), 'Red Chased?': ap.detect_chasing(chased_ratios)}"
   ]
  },
  {
   "cell_type": "markdown",
   "metadata": {},
   "source": [
    "Ratios that include selective appraisals will be clustered around the value of one much more than ratios produced from a CAMA system. We can see this visually in the graph where the cumulative distribution curve shows a discontinuous jump, or 'flat spot', near one."
   ]
  }
 ],
 "metadata": {
  "kernelspec": {
   "display_name": "Python 3.9.0 64-bit",
   "language": "python",
   "name": "python3"
  },
  "language_info": {
   "codemirror_mode": {
    "name": "ipython",
    "version": 3
   },
   "file_extension": ".py",
   "mimetype": "text/x-python",
   "name": "python",
   "nbconvert_exporter": "python",
   "pygments_lexer": "ipython3",
   "version": "3.9.0"
  },
  "orig_nbformat": 4,
  "vscode": {
   "interpreter": {
    "hash": "81794d4967e6c3204c66dcd87b604927b115b27c00565d3d43f05ba2f3a2cb0d"
   }
  }
 },
 "nbformat": 4,
 "nbformat_minor": 2
}
